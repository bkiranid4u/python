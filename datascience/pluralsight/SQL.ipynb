{
 "cells": [
  {
   "cell_type": "code",
   "execution_count": 2,
   "id": "b6ff772c",
   "metadata": {},
   "outputs": [],
   "source": [
    "# Import SQLLITE3 package\n",
    "import sqlite3"
   ]
  },
  {
   "cell_type": "markdown",
   "id": "c972b61c",
   "metadata": {},
   "source": [
    "### Connect to database"
   ]
  },
  {
   "cell_type": "code",
   "execution_count": 3,
   "id": "77bbd766",
   "metadata": {},
   "outputs": [],
   "source": [
    "connection = sqlite3.connect(\"classroomDB.db\")\n",
    "connection.close()"
   ]
  },
  {
   "cell_type": "markdown",
   "id": "c41afc47",
   "metadata": {},
   "source": [
    "#### Create Table"
   ]
  },
  {
   "cell_type": "code",
   "execution_count": null,
   "id": "e06482f2",
   "metadata": {},
   "outputs": [],
   "source": [
    "# Open Connection\n",
    "connection = sqlite3.connect(\"classroomDB.db\")\n",
    "\n",
    "#Open Cursor\n",
    "cursor = connection.cursor()\n",
    "\n",
    "#DDL to create table\n",
    "\n",
    "create_table = \"\"\"\n",
    "                CREATE TABLE classroom \n",
    "                (\n",
    "                    student_id INTEGER PRIMARY KEY,\n",
    "                    name VARCHAR(20),\n",
    "                    gender CHAR(1),\n",
    "                    physics_marks INTEGER,\n",
    "                    chemistry_marks INTEGER,\n",
    "                    maths_marks INTEGER\n",
    "                );\n",
    "        \"\"\"\n",
    "#Execute the Query\n",
    "cursor.execute(create_table)\n",
    "\n",
    "# Commit the changes \n",
    "connection.commit()\n",
    "\n",
    "# Close the connection\n",
    "connection.close()\n"
   ]
  },
  {
   "cell_type": "markdown",
   "id": "4baa54b2",
   "metadata": {},
   "source": [
    "#### Insert Data\n"
   ]
  },
  {
   "cell_type": "code",
   "execution_count": 9,
   "id": "7a88f5b2",
   "metadata": {},
   "outputs": [],
   "source": [
    "# sample data\n",
    "classroom_data = [\n",
    "    (1,\"Kiran\",\"M\",70,84,95),\n",
    "    (2,\"Srinika\",\"M\",95,95,95),\n",
    "    (3,\"Vishnu\",\"M\",79,89,99),\n",
    "    (4,\"Harsha\",\"M\",75,89,95),\n",
    "]\n",
    "\n",
    "# open connection\n",
    "\n",
    "connection = sqlite3.connect(\"classroomDB.db\")\n",
    "\n",
    "# open cursor \n",
    "\n",
    "cursor = connection.cursor()\n",
    "\n",
    "# Insert each student record\n",
    "\n",
    "for student in classroom_data:\n",
    "    \n",
    "    insert_statement = \"\"\"INSERT INTO classroom\n",
    "    (student_id, name, gender, physics_marks, chemistry_marks, maths_marks) VALUES\n",
    "    ({0}, \"{1}\", \"{2}\",{3},{4},{5});\"\"\".format(student[0],student[1],student[2],student[3],student[4],student[5])\n",
    "    \n",
    "    # Execute insert Query\n",
    "    cursor.execute(insert_statement)\n",
    "    \n",
    "# commit the changes \n",
    "connection.commit()\n",
    "# close the connection\n",
    "connection.close()"
   ]
  },
  {
   "cell_type": "code",
   "execution_count": 10,
   "id": "f7ae2a8d",
   "metadata": {},
   "outputs": [
    {
     "name": "stderr",
     "output_type": "stream",
     "text": [
      "UsageError: Line magic function `%sql` not found.\n"
     ]
    }
   ],
   "source": [
    "%sql SELECT * from classroom;"
   ]
  },
  {
   "cell_type": "code",
   "execution_count": 13,
   "id": "86bc5982",
   "metadata": {},
   "outputs": [
    {
     "name": "stdout",
     "output_type": "stream",
     "text": [
      "(1, 'Kiran', 'M', 70, 84, 95)\n",
      "(2, 'Srinika', 'M', 95, 95, 95)\n",
      "(3, 'Vishnu', 'M', 79, 89, 99)\n",
      "(4, 'Harsha', 'M', 75, 89, 95)\n"
     ]
    }
   ],
   "source": [
    "# open connection\n",
    "\n",
    "connection = sqlite3.connect(\"classroomDB.db\")\n",
    "\n",
    "# open cursor \n",
    "\n",
    "cursor = connection.cursor()\n",
    "cursor.execute(\"SELECT * from classroom;\")\n",
    "results = cursor.fetchall()\n",
    "\n",
    "for row in results:\n",
    "    print(row)\n",
    "\n",
    "connection.close()"
   ]
  },
  {
   "cell_type": "markdown",
   "id": "cd425aef",
   "metadata": {},
   "source": [
    "### MySQL Database\n",
    "##### Install package"
   ]
  },
  {
   "cell_type": "code",
   "execution_count": 1,
   "id": "4c033357",
   "metadata": {},
   "outputs": [
    {
     "name": "stdout",
     "output_type": "stream",
     "text": [
      "Collecting package metadata (current_repodata.json): ...working... done\n",
      "Solving environment: ...working... done\n",
      "\n",
      "## Package Plan ##\n",
      "\n",
      "  environment location: /Users/kiran/opt/anaconda3\n",
      "\n",
      "  added / updated specs:\n",
      "    - pymysql\n",
      "\n",
      "\n",
      "The following packages will be downloaded:\n",
      "\n",
      "    package                    |            build\n",
      "    ---------------------------|-----------------\n",
      "    pymysql-1.0.2              |   py39hecd8cb5_1          78 KB\n",
      "    ------------------------------------------------------------\n",
      "                                           Total:          78 KB\n",
      "\n",
      "The following NEW packages will be INSTALLED:\n",
      "\n",
      "  pymysql            pkgs/main/osx-64::pymysql-1.0.2-py39hecd8cb5_1\n",
      "\n",
      "\n",
      "Preparing transaction: ...working... done\n",
      "Verifying transaction: ...working... done\n",
      "Executing transaction: ...working... done\n"
     ]
    }
   ],
   "source": [
    "!conda install -y -q pymysql"
   ]
  },
  {
   "cell_type": "markdown",
   "id": "9bec2dc3",
   "metadata": {},
   "source": [
    "import pymysql"
   ]
  },
  {
   "cell_type": "code",
   "execution_count": 7,
   "id": "00fde570",
   "metadata": {},
   "outputs": [
    {
     "name": "stdout",
     "output_type": "stream",
     "text": [
      "(('8.0.28',),)\n"
     ]
    }
   ],
   "source": [
    "import pymysql\n",
    "\n",
    "def mysqlconnect():\n",
    "\t# To connect MySQL database\n",
    "\tconn = pymysql.connect(\n",
    "\t\thost='localhost',\n",
    "\t\tuser='groot',\n",
    "\t\tpassword = \"****\",\n",
    "\t\tdb='classroomDB',\n",
    "\t\t)\n",
    "\t\n",
    "\tcur = conn.cursor()\n",
    "\tcur.execute(\"select @@version\")\n",
    "\toutput = cur.fetchall()\n",
    "\tprint(output)\n",
    "\t\n",
    "\t# To close the connection\n",
    "\tconn.close()\n",
    "\n",
    "# Driver Code\n",
    "if __name__ == \"__main__\" :\n",
    "\tmysqlconnect()\n"
   ]
  },
  {
   "cell_type": "code",
   "execution_count": null,
   "id": "b8b71e29",
   "metadata": {},
   "outputs": [],
   "source": []
  }
 ],
 "metadata": {
  "kernelspec": {
   "display_name": "Python 3 (ipykernel)",
   "language": "python",
   "name": "python3"
  },
  "language_info": {
   "codemirror_mode": {
    "name": "ipython",
    "version": 3
   },
   "file_extension": ".py",
   "mimetype": "text/x-python",
   "name": "python",
   "nbconvert_exporter": "python",
   "pygments_lexer": "ipython3",
   "version": "3.9.7"
  }
 },
 "nbformat": 4,
 "nbformat_minor": 5
}
