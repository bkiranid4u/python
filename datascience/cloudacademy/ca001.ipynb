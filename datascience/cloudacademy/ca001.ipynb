{
 "cells": [
  {
   "cell_type": "code",
   "execution_count": 14,
   "id": "7baa3aaf-6cf7-4d7c-8b77-18f37e9d515e",
   "metadata": {},
   "outputs": [],
   "source": [
    "import numpy as np\n",
    "import pandas as pd\n",
    "\n"
   ]
  },
  {
   "cell_type": "code",
   "execution_count": 23,
   "id": "e8f0e692-94a2-4ae2-ba24-f2808a4ef903",
   "metadata": {},
   "outputs": [
    {
     "data": {
      "text/plain": [
       "2"
      ]
     },
     "execution_count": 23,
     "metadata": {},
     "output_type": "execute_result"
    }
   ],
   "source": [
    "ages=np.array([range(1,11)])\n",
    "ages.shape\n",
    "ages.ndim"
   ]
  },
  {
   "cell_type": "code",
   "execution_count": 25,
   "id": "aff06fd6-657c-47da-8d8f-c4c61e8848ef",
   "metadata": {},
   "outputs": [
    {
     "name": "stdout",
     "output_type": "stream",
     "text": [
      "[ 7  9 65 33 85 90]\n",
      "[[1 2 4]\n",
      " [2 3 0]\n",
      " [0 5 1]]\n"
     ]
    }
   ],
   "source": [
    "a1 = np.array([7,9,65,33,85,90])\n",
    "print(a1)\n",
    "\n",
    "a2 = np.array([[1,2,4],[2,3,0],[0,5,1]])\n",
    "print(a2)"
   ]
  },
  {
   "cell_type": "code",
   "execution_count": 31,
   "id": "4ede61dd-e1d9-45be-8ca8-b45bc1ebd82a",
   "metadata": {},
   "outputs": [
    {
     "data": {
      "text/plain": [
       "array([[[[[1, 2, 4],\n",
       "          [2, 3, 0],\n",
       "          [0, 5, 1]]]]])"
      ]
     },
     "execution_count": 31,
     "metadata": {},
     "output_type": "execute_result"
    }
   ],
   "source": [
    "a2.reshape(1,1,1,3,3)\n"
   ]
  },
  {
   "cell_type": "code",
   "execution_count": 37,
   "id": "1209484f-5838-472b-a72e-6c4e683a3e56",
   "metadata": {},
   "outputs": [
    {
     "name": "stdout",
     "output_type": "stream",
     "text": [
      "[102  21  40  86  16  49  20  40  13  51  25  52   6  83  82 101  94 104\n",
      "  93  88  36  95  13  89   3  96  17 104 108  43  79  79  48  56  14  28\n",
      "  40  25  80   1 108  41  42 100 106  17  86   1  85  72]\n",
      "[0.70752361 0.60894606 0.0720865  0.70726253 0.46213563 0.81411813\n",
      " 0.87050153 0.08060445 0.41621335 0.34629451 0.17812212 0.38825538\n",
      " 0.78110193 0.84386065 0.64954262 0.69935822 0.2753047  0.39052629\n",
      " 0.90873667 0.6455118  0.38375542 0.92177056 0.13315349 0.20823125\n",
      " 0.58499109 0.18288646 0.17511016 0.91086696 0.83123404 0.65994226\n",
      " 0.77831323 0.99223064 0.82558203 0.14911213 0.85547714 0.31105379\n",
      " 0.00436416 0.67737993 0.78594547 0.57595054 0.94273547 0.64912402\n",
      " 0.75457248 0.22520995 0.35742398 0.91846713 0.96148957 0.36873233\n",
      " 0.67940036 0.88876725]\n"
     ]
    }
   ],
   "source": [
    "c1 = np.random.randint(0,110,50)\n",
    "print(c1)\n",
    "c2=np.random.rand(50)\n",
    "print(c2)"
   ]
  },
  {
   "cell_type": "code",
   "execution_count": 41,
   "id": "182edeba-daee-435e-9021-99f277fd7885",
   "metadata": {},
   "outputs": [
    {
     "name": "stdout",
     "output_type": "stream",
     "text": [
      "['french' 'english' 'english' 'english' 'english' 'french' 'english'\n",
      " 'french' 'french' 'french' 'english' 'french' 'french' 'english'\n",
      " 'english' 'english' 'english' 'french' 'english' 'english' 'english'\n",
      " 'french' 'english' 'english' 'english' 'english' 'english' 'english'\n",
      " 'french' 'english' 'english' 'english' 'english' 'french' 'french'\n",
      " 'french' 'english' 'french' 'french' 'english' 'french' 'french'\n",
      " 'english' 'english' 'english' 'french' 'french' 'english' 'french'\n",
      " 'french']\n",
      "['102' '0.707523605076646' 'french' '21' '0.6089460639346865' 'english'\n",
      " '40' '0.0720864950788197' 'english' '86' '0.7072625297003102' 'english'\n",
      " '16' '0.46213562502491423' 'english' '49' '0.8141181296903726' 'french'\n",
      " '20' '0.8705015304100957' 'english' '40' '0.08060445387361892' 'french'\n",
      " '13' '0.41621334996797454' 'french' '51' '0.3462945146805667' 'french'\n",
      " '25' '0.17812211883275075' 'english' '52' '0.3882553825558023' 'french'\n",
      " '6' '0.7811019256330137' 'french' '83' '0.8438606456942165' 'english'\n",
      " '82' '0.6495426179432485' 'english' '101' '0.6993582178994454' 'english'\n",
      " '94' '0.27530470146657426' 'english' '104' '0.3905262850181974' 'french'\n",
      " '93' '0.9087366677526656' 'english' '88' '0.645511801879746' 'english'\n",
      " '36' '0.38375541608688923' 'english' '95' '0.9217705563712851' 'french'\n",
      " '13' '0.133153485056829' 'english' '89' '0.20823124718453345' 'english'\n",
      " '3' '0.5849910942021704' 'english' '96' '0.18288646052732993' 'english'\n",
      " '17' '0.17511015832608556' 'english' '104' '0.9108669559655568' 'english'\n",
      " '108' '0.8312340438265637' 'french' '43' '0.6599422618625177' 'english'\n",
      " '79' '0.7783132318946903' 'english' '79' '0.9922306433244684' 'english'\n",
      " '48' '0.8255820299233605' 'english' '56' '0.1491121290599191' 'french'\n",
      " '14' '0.8554771412855713' 'french' '28' '0.311053788884066' 'french' '40'\n",
      " '0.004364160223309876' 'english' '25' '0.6773799329087323' 'french' '80'\n",
      " '0.7859454704106054' 'french' '1' '0.5759505370385102' 'english' '108'\n",
      " '0.9427354652703069' 'french' '41' '0.6491240161098178' 'french' '42'\n",
      " '0.7545724786237867' 'english' '100' '0.22520995340745842' 'english'\n",
      " '106' '0.3574239817244391' 'english' '17' '0.918467129420658' 'french'\n",
      " '86' '0.9614895746022697' 'french' '1' '0.36873232524045574' 'english'\n",
      " '85' '0.6794003611802848' 'french' '72' '0.8887672451687172' 'french']\n"
     ]
    }
   ],
   "source": [
    "c3=np.random.choice(['french', 'english'],50)\n",
    "print(c3)\n",
    "\n",
    "data = np.column_stack((c1,c2,c3)).flatten()\n",
    "print(data)"
   ]
  },
  {
   "cell_type": "code",
   "execution_count": 46,
   "id": "aa466c93-ccb4-48ea-9107-0a33b350e64b",
   "metadata": {},
   "outputs": [
    {
     "data": {
      "text/plain": [
       "array(['french', 'french', 'english', 'english', 'english', 'english',\n",
       "       'english', 'french', 'french', 'english', 'french', 'french',\n",
       "       'english', 'french', 'french', 'french', 'english', 'english',\n",
       "       'english', 'french', 'english', 'english', 'english', 'english',\n",
       "       'english', 'french', 'french', 'english', 'english', 'french',\n",
       "       'english', 'french', 'french', 'english', 'french', 'english',\n",
       "       'french', 'english', 'english', 'english', 'english', 'english',\n",
       "       'french', 'english', 'french', 'french', 'french', 'french',\n",
       "       'english', 'french'], dtype='<U7')"
      ]
     },
     "execution_count": 46,
     "metadata": {},
     "output_type": "execute_result"
    }
   ],
   "source": [
    "np.random.choice(['french', 'english'],50,p=(0.5,0.5))"
   ]
  },
  {
   "cell_type": "code",
   "execution_count": 52,
   "id": "4abb941c-c34c-497e-8c5d-8b6f1d696261",
   "metadata": {},
   "outputs": [
    {
     "data": {
      "text/plain": [
       "array([ 0.,  5., 10., 15., 20., 25., 30., 35., 40., 45., 50.])"
      ]
     },
     "execution_count": 52,
     "metadata": {},
     "output_type": "execute_result"
    }
   ],
   "source": [
    "np.linspace(0,50,11)"
   ]
  },
  {
   "cell_type": "code",
   "execution_count": 54,
   "id": "1018ef7f-9ddd-4512-8e3b-ed25f38a022b",
   "metadata": {},
   "outputs": [
    {
     "data": {
      "text/plain": [
       "array([2, 2, 2, 2, 2, 2, 2, 2, 2, 2])"
      ]
     },
     "execution_count": 54,
     "metadata": {},
     "output_type": "execute_result"
    }
   ],
   "source": [
    "np.repeat(2,10)"
   ]
  },
  {
   "cell_type": "code",
   "execution_count": 61,
   "id": "ab44a5b8-75a4-4c91-b129-b11fdae51297",
   "metadata": {},
   "outputs": [
    {
     "name": "stdout",
     "output_type": "stream",
     "text": [
      "[[1. 0. 0. 0. 0. 0.]\n",
      " [0. 1. 0. 0. 0. 0.]\n",
      " [0. 0. 1. 0. 0. 0.]\n",
      " [0. 0. 0. 1. 0. 0.]\n",
      " [0. 0. 0. 0. 1. 0.]\n",
      " [0. 0. 0. 0. 0. 1.]]\n"
     ]
    }
   ],
   "source": [
    "identity_matrix = np.eye(6)\n",
    "print(identity_matrix)"
   ]
  },
  {
   "cell_type": "code",
   "execution_count": 63,
   "id": "e796c215-eb69-466a-a8cd-af19c97f52b4",
   "metadata": {},
   "outputs": [],
   "source": [
    "five_time_table =np.arange(0,55,5)"
   ]
  },
  {
   "cell_type": "code",
   "execution_count": 65,
   "id": "889fffc2-0419-4944-b675-4af1a3a55997",
   "metadata": {},
   "outputs": [
    {
     "name": "stdout",
     "output_type": "stream",
     "text": [
      "[  0  10  20  30  40  50  60  70  80  90 100]\n",
      "[10 15 20 25 30 35 40 45 50 55 60]\n",
      "[ True  True  True  True  True False False False False False False]\n"
     ]
    }
   ],
   "source": [
    "print(five_time_table * 2)\n",
    "print(five_time_table + 10)\n",
    "print(five_time_table < 25)"
   ]
  }
 ],
 "metadata": {
  "kernelspec": {
   "display_name": "Python 3 (ipykernel)",
   "language": "python",
   "name": "python3"
  },
  "language_info": {
   "codemirror_mode": {
    "name": "ipython",
    "version": 3
   },
   "file_extension": ".py",
   "mimetype": "text/x-python",
   "name": "python",
   "nbconvert_exporter": "python",
   "pygments_lexer": "ipython3",
   "version": "3.9.7"
  }
 },
 "nbformat": 4,
 "nbformat_minor": 5
}
