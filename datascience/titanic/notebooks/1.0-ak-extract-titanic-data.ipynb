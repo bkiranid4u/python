{
 "cells": [
  {
   "cell_type": "code",
   "execution_count": 2,
   "id": "da957e6f",
   "metadata": {},
   "outputs": [],
   "source": [
    "import os\n",
    "get_raw_data_script_file = os.path.join(os.path.pardir,'src','data','get_raw_data.py')"
   ]
  },
  {
   "cell_type": "code",
   "execution_count": 4,
   "id": "6e259735",
   "metadata": {},
   "outputs": [
    {
     "name": "stdout",
     "output_type": "stream",
     "text": [
      "Overwriting ../src/data/get_raw_data.py\n"
     ]
    }
   ],
   "source": [
    "\n",
    "%%writefile $get_raw_data_script_file\n",
    "# **************** Cosing: utf-8 ************\\n\n",
    "\n",
    "import os\n",
    "from dotenv import load_dotenv,find_dotenv\n",
    "import requests\n",
    "from kaggle.api.kaggle_api_extended import KaggleApi\n",
    "import logging\n",
    "\n",
    "# Payload to log into kaggle\n",
    "\n",
    "payload = {\n",
    "    'action': 'login',\n",
    "    'username': os.getenv('KAGGLE_USERNAME'),\n",
    "    'password': os.getenv('KAGGLE_APIKEY')\n",
    "}\n",
    "\n",
    "def extract_data(competition,fileName, filePath):\n",
    "    '''\n",
    "    Method to extract data\n",
    "    '''    \n",
    "    api = KaggleApi()\n",
    "    api.authenticate()\n",
    "    api.competition_download_file(competition,fileName, filePath)\n",
    "    \n",
    "\n",
    "def main(project_dir):\n",
    "    \"\"\"\n",
    "        Main Method\n",
    "    \"\"\"\n",
    "    #Get Logger\n",
    "    \n",
    "    logger = logging.getLogger(__name__)\n",
    "    logger.info('Getting Raw Data')\n",
    "    \n",
    "    # competion,dataset name && file path \n",
    "\n",
    "    raw_data_path = os.path.join(project_dir,'data','raw')\n",
    "    train_data_path = os.path.join(raw_data_path, 'train.csv')\n",
    "    test_data_path = os.path.join(raw_data_path,'test.csv')\n",
    "    \n",
    "    # Extract data\n",
    "    extract_data('titanic','train.csv',raw_data_path)\n",
    "    extract_data('titanic','test.csv',raw_data_path)\n",
    "    \n",
    "    logger.info('Downloaded the raw data')\n",
    "\n",
    "if __name__ == '__main__':\n",
    "    \n",
    "    # Getting root directory\n",
    "    \n",
    "    project_dir = os.path.join(os.path.dirname(__file__), os.pardir,os.pardir)\n",
    "    \n",
    "    # Setup the logger\n",
    "    \n",
    "    log_fmt = '%(asctime)s - %(name)s - %(levelname)s - %(message)s'\n",
    "    logging.basicConfig(level=logging.INFO, format=log_fmt)\n",
    "    \n",
    "    # find .env file automatically by walking up directories until it's found \n",
    "    \n",
    "    dotenv_path = find_dotenv()\n",
    "    \n",
    "    # Load up the entries as environment variables\n",
    "    \n",
    "    load_dotenv(dotenv_path)\n",
    "    \n",
    "    main(project_dir)\n",
    "    \n",
    "    "
   ]
  },
  {
   "cell_type": "code",
   "execution_count": 5,
   "id": "6c565aa8",
   "metadata": {},
   "outputs": [
    {
     "name": "stdout",
     "output_type": "stream",
     "text": [
      "2022-03-12 20:36:10,953 - __main__ - INFO - Getting Raw Data\n",
      "train.csv: Skipping, found more recently modified local copy (use --force to force download)\n",
      "test.csv: Skipping, found more recently modified local copy (use --force to force download)\n",
      "2022-03-12 20:36:13,289 - __main__ - INFO - Downloaded the raw data\n"
     ]
    }
   ],
   "source": [
    "!python $get_raw_data_script_file"
   ]
  },
  {
   "cell_type": "code",
   "execution_count": null,
   "id": "b8c7801b",
   "metadata": {},
   "outputs": [],
   "source": []
  }
 ],
 "metadata": {
  "kernelspec": {
   "display_name": "Python 3 (ipykernel)",
   "language": "python",
   "name": "python3"
  },
  "language_info": {
   "codemirror_mode": {
    "name": "ipython",
    "version": 3
   },
   "file_extension": ".py",
   "mimetype": "text/x-python",
   "name": "python",
   "nbconvert_exporter": "python",
   "pygments_lexer": "ipython3",
   "version": "3.9.7"
  }
 },
 "nbformat": 4,
 "nbformat_minor": 5
}
