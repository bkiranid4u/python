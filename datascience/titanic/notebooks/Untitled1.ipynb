{
 "cells": [
  {
   "cell_type": "markdown",
   "id": "b855b246",
   "metadata": {},
   "source": [
    "# Building Predictive Models"
   ]
  },
  {
   "cell_type": "code",
   "execution_count": 1,
   "id": "7df7960a",
   "metadata": {},
   "outputs": [],
   "source": [
    "import pandas as pd \n",
    "import numpy as np\n",
    "import os\n"
   ]
  },
  {
   "cell_type": "markdown",
   "id": "0bd938fe",
   "metadata": {},
   "source": [
    "### Import Data"
   ]
  },
  {
   "cell_type": "code",
   "execution_count": 2,
   "id": "56ba1f88",
   "metadata": {},
   "outputs": [],
   "source": [
    "# Set the path of the processed data\n",
    "\n",
    "processed_data_path = os.path.join(os.path.pardir, 'data', 'processed')\n",
    "train_file_path = os.path.join(processed_data_path, 'train.csv')\n",
    "test_file_path = os.path.join(processed_data_path, 'test.csv')"
   ]
  },
  {
   "cell_type": "code",
   "execution_count": 3,
   "id": "bb998478",
   "metadata": {},
   "outputs": [],
   "source": [
    "train_df = pd.read_csv(train_file_path, index_col='PassengerId')\n",
    "test_df = pd.read_csv(test_file_path, index_col='PassengerId')"
   ]
  },
  {
   "cell_type": "code",
   "execution_count": 4,
   "id": "f22998e1",
   "metadata": {},
   "outputs": [
    {
     "name": "stdout",
     "output_type": "stream",
     "text": [
      "<class 'pandas.core.frame.DataFrame'>\n",
      "Int64Index: 891 entries, 1 to 891\n",
      "Data columns (total 33 columns):\n",
      " #   Column              Non-Null Count  Dtype  \n",
      "---  ------              --------------  -----  \n",
      " 0   Survived            891 non-null    int64  \n",
      " 1   Age                 891 non-null    float64\n",
      " 2   Fare                891 non-null    float64\n",
      " 3   FamilySize          891 non-null    int64  \n",
      " 4   IsMother            891 non-null    int64  \n",
      " 5   IsMale              891 non-null    int64  \n",
      " 6   Deck_A              891 non-null    int64  \n",
      " 7   Deck_B              891 non-null    int64  \n",
      " 8   Deck_C              891 non-null    int64  \n",
      " 9   Deck_D              891 non-null    int64  \n",
      " 10  Deck_E              891 non-null    int64  \n",
      " 11  Deck_F              891 non-null    int64  \n",
      " 12  Deck_G              891 non-null    int64  \n",
      " 13  Deck_Z              891 non-null    int64  \n",
      " 14  Pclass_1            891 non-null    int64  \n",
      " 15  Pclass_2            891 non-null    int64  \n",
      " 16  Pclass_3            891 non-null    int64  \n",
      " 17  Title_Lady          891 non-null    int64  \n",
      " 18  Title_Master        891 non-null    int64  \n",
      " 19  Title_Miss          891 non-null    int64  \n",
      " 20  Title_Mr            891 non-null    int64  \n",
      " 21  Title_Mrs           891 non-null    int64  \n",
      " 22  Title_Officer       891 non-null    int64  \n",
      " 23  Title_Sir           891 non-null    int64  \n",
      " 24  Fare_Bin_very_low   891 non-null    int64  \n",
      " 25  Fare_Bin_low        891 non-null    int64  \n",
      " 26  Fare_Bin_high       891 non-null    int64  \n",
      " 27  Fare_Bin_very_high  891 non-null    int64  \n",
      " 28  Embarked_C          891 non-null    int64  \n",
      " 29  Embarked_Q          891 non-null    int64  \n",
      " 30  Embarked_S          891 non-null    int64  \n",
      " 31  AgeState_Adult      891 non-null    int64  \n",
      " 32  AgeState_Child      891 non-null    int64  \n",
      "dtypes: float64(2), int64(31)\n",
      "memory usage: 236.7 KB\n"
     ]
    }
   ],
   "source": [
    "train_df.info()"
   ]
  },
  {
   "cell_type": "code",
   "execution_count": 5,
   "id": "184b7d81",
   "metadata": {},
   "outputs": [
    {
     "name": "stdout",
     "output_type": "stream",
     "text": [
      "<class 'pandas.core.frame.DataFrame'>\n",
      "Int64Index: 418 entries, 892 to 1309\n",
      "Data columns (total 32 columns):\n",
      " #   Column              Non-Null Count  Dtype  \n",
      "---  ------              --------------  -----  \n",
      " 0   Age                 418 non-null    float64\n",
      " 1   Fare                418 non-null    float64\n",
      " 2   FamilySize          418 non-null    int64  \n",
      " 3   IsMother            418 non-null    int64  \n",
      " 4   IsMale              418 non-null    int64  \n",
      " 5   Deck_A              418 non-null    int64  \n",
      " 6   Deck_B              418 non-null    int64  \n",
      " 7   Deck_C              418 non-null    int64  \n",
      " 8   Deck_D              418 non-null    int64  \n",
      " 9   Deck_E              418 non-null    int64  \n",
      " 10  Deck_F              418 non-null    int64  \n",
      " 11  Deck_G              418 non-null    int64  \n",
      " 12  Deck_Z              418 non-null    int64  \n",
      " 13  Pclass_1            418 non-null    int64  \n",
      " 14  Pclass_2            418 non-null    int64  \n",
      " 15  Pclass_3            418 non-null    int64  \n",
      " 16  Title_Lady          418 non-null    int64  \n",
      " 17  Title_Master        418 non-null    int64  \n",
      " 18  Title_Miss          418 non-null    int64  \n",
      " 19  Title_Mr            418 non-null    int64  \n",
      " 20  Title_Mrs           418 non-null    int64  \n",
      " 21  Title_Officer       418 non-null    int64  \n",
      " 22  Title_Sir           418 non-null    int64  \n",
      " 23  Fare_Bin_very_low   418 non-null    int64  \n",
      " 24  Fare_Bin_low        418 non-null    int64  \n",
      " 25  Fare_Bin_high       418 non-null    int64  \n",
      " 26  Fare_Bin_very_high  418 non-null    int64  \n",
      " 27  Embarked_C          418 non-null    int64  \n",
      " 28  Embarked_Q          418 non-null    int64  \n",
      " 29  Embarked_S          418 non-null    int64  \n",
      " 30  AgeState_Adult      418 non-null    int64  \n",
      " 31  AgeState_Child      418 non-null    int64  \n",
      "dtypes: float64(2), int64(30)\n",
      "memory usage: 107.8 KB\n"
     ]
    }
   ],
   "source": [
    "test_df.info()"
   ]
  },
  {
   "cell_type": "code",
   "execution_count": 8,
   "id": "f9365a2b",
   "metadata": {},
   "outputs": [],
   "source": [
    "x = train_df.loc[:,'Age':].values.astype('float')\n",
    "y= train_df['Survived'].ravel()"
   ]
  },
  {
   "cell_type": "code",
   "execution_count": 12,
   "id": "657d59a0",
   "metadata": {},
   "outputs": [
    {
     "name": "stdout",
     "output_type": "stream",
     "text": [
      "(891, 32) (891,)\n",
      "2\n"
     ]
    }
   ],
   "source": [
    "print(x.shape, y.shape)\n",
    "print(x.ndim)"
   ]
  },
  {
   "cell_type": "code",
   "execution_count": 17,
   "id": "5db0cef5",
   "metadata": {},
   "outputs": [
    {
     "name": "stdout",
     "output_type": "stream",
     "text": [
      "(179, 32) (712,)\n"
     ]
    }
   ],
   "source": [
    "# train test split\n",
    "\n",
    "from sklearn.model_selection import train_test_split\n",
    "x_train, x_test, y_train, y_test = train_test_split(x,y, test_size=0.2, random_state=0)\n",
    "print(x_test.shape, y_train.shape)"
   ]
  },
  {
   "cell_type": "code",
   "execution_count": 16,
   "id": "46b6861f",
   "metadata": {},
   "outputs": [
    {
     "name": "stdout",
     "output_type": "stream",
     "text": [
      "Mean survival in train: 0.383\n",
      "Mean survival in test: 0.385\n"
     ]
    }
   ],
   "source": [
    "print('Mean survival in train: {0:.3f}'.format(np.mean(y_train)))\n",
    "print('Mean survival in test: {0:.3f}'.format(np.mean(y_test)))"
   ]
  },
  {
   "cell_type": "code",
   "execution_count": 18,
   "id": "cafe39ec",
   "metadata": {},
   "outputs": [],
   "source": [
    "import sklearn"
   ]
  },
  {
   "cell_type": "code",
   "execution_count": 19,
   "id": "0293ba5c",
   "metadata": {},
   "outputs": [
    {
     "data": {
      "text/plain": [
       "'0.24.2'"
      ]
     },
     "execution_count": 19,
     "metadata": {},
     "output_type": "execute_result"
    }
   ],
   "source": [
    "sklearn.__version__"
   ]
  },
  {
   "cell_type": "code",
   "execution_count": 21,
   "id": "199a0020",
   "metadata": {},
   "outputs": [],
   "source": [
    "from sklearn.dummy import DummyClassifier"
   ]
  },
  {
   "cell_type": "code",
   "execution_count": 22,
   "id": "a1983fc7",
   "metadata": {},
   "outputs": [],
   "source": [
    "model_dummy = DummyClassifier(strategy='most_frequent',random_state=0)"
   ]
  },
  {
   "cell_type": "code",
   "execution_count": 24,
   "id": "bb9076a4",
   "metadata": {},
   "outputs": [
    {
     "data": {
      "text/plain": [
       "DummyClassifier(random_state=0, strategy='most_frequent')"
      ]
     },
     "execution_count": 24,
     "metadata": {},
     "output_type": "execute_result"
    }
   ],
   "source": [
    "model_dummy.fit(x_train, y_train)"
   ]
  },
  {
   "cell_type": "code",
   "execution_count": 26,
   "id": "0d2f0954",
   "metadata": {},
   "outputs": [
    {
     "name": "stdout",
     "output_type": "stream",
     "text": [
      "Score for baseline model: 0.61\n"
     ]
    }
   ],
   "source": [
    "print('Score for baseline model: {0:.2f}'.format(model_dummy.score(x_test,y_test)))"
   ]
  },
  {
   "cell_type": "code",
   "execution_count": 27,
   "id": "9f4f59a5",
   "metadata": {},
   "outputs": [],
   "source": [
    "# Performance Metrics \n",
    "\n",
    "from sklearn.metrics import accuracy_score,confusion_matrix, precision_score, recall_score"
   ]
  },
  {
   "cell_type": "code",
   "execution_count": 28,
   "id": "691a1709",
   "metadata": {},
   "outputs": [
    {
     "name": "stdout",
     "output_type": "stream",
     "text": [
      "Accuracy for baseline model: 0.61\n"
     ]
    }
   ],
   "source": [
    "# Accuracy\n",
    "print('Accuracy for baseline model: {0:.2f}'.format(accuracy_score(y_test, model_dummy.predict(x_test))))"
   ]
  },
  {
   "cell_type": "code",
   "execution_count": 30,
   "id": "85429fd0",
   "metadata": {},
   "outputs": [
    {
     "name": "stdout",
     "output_type": "stream",
     "text": [
      "Copnfusion matrix for baseline mode: \n",
      " [[110   0]\n",
      " [ 69   0]]\n"
     ]
    }
   ],
   "source": [
    "# Confusion matrix \n",
    "\n",
    "print('Copnfusion matrix for baseline model: \\n {0}'.format(confusion_matrix(y_test, model_dummy.predict(x_test))))"
   ]
  },
  {
   "cell_type": "code",
   "execution_count": null,
   "id": "ca8efbfd",
   "metadata": {},
   "outputs": [],
   "source": []
  }
 ],
 "metadata": {
  "kernelspec": {
   "display_name": "Python 3 (ipykernel)",
   "language": "python",
   "name": "python3"
  },
  "language_info": {
   "codemirror_mode": {
    "name": "ipython",
    "version": 3
   },
   "file_extension": ".py",
   "mimetype": "text/x-python",
   "name": "python",
   "nbconvert_exporter": "python",
   "pygments_lexer": "ipython3",
   "version": "3.9.7"
  }
 },
 "nbformat": 4,
 "nbformat_minor": 5
}
